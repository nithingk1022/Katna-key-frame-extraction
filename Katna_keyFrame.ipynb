{
  "nbformat": 4,
  "nbformat_minor": 0,
  "metadata": {
    "colab": {
      "name": "201046041_Nithin_G_K_MMA_Assignmnet.ipynb",
      "provenance": []
    },
    "kernelspec": {
      "name": "python3",
      "display_name": "Python 3"
    },
    "language_info": {
      "name": "python"
    }
  },
  "cells": [
    {
      "cell_type": "code",
      "metadata": {
        "colab": {
          "base_uri": "https://localhost:8080/"
        },
        "id": "2yFrBysH74Hm",
        "outputId": "9db35d2e-0bc6-421c-86a6-b5a321dad47d"
      },
      "source": [
        "pip install katna"
      ],
      "execution_count": null,
      "outputs": [
        {
          "output_type": "stream",
          "text": [
            "Requirement already satisfied: katna in /usr/local/lib/python3.7/dist-packages (0.9.2)\n",
            "Requirement already satisfied: imageio-ffmpeg>=0.2.0 in /usr/local/lib/python3.7/dist-packages (from katna) (0.4.4)\n",
            "Requirement already satisfied: imutils in /usr/local/lib/python3.7/dist-packages (from katna) (0.5.4)\n",
            "Requirement already satisfied: psutil in /usr/local/lib/python3.7/dist-packages (from katna) (5.4.8)\n",
            "Requirement already satisfied: requests in /usr/local/lib/python3.7/dist-packages (from katna) (2.23.0)\n",
            "Requirement already satisfied: ffmpy in /usr/local/lib/python3.7/dist-packages (from katna) (0.3.0)\n",
            "Requirement already satisfied: scikit-learn in /usr/local/lib/python3.7/dist-packages (from katna) (0.22.2.post1)\n",
            "Requirement already satisfied: scipy in /usr/local/lib/python3.7/dist-packages (from katna) (1.4.1)\n",
            "Requirement already satisfied: numpy>=1.15 in /usr/local/lib/python3.7/dist-packages (from katna) (1.19.5)\n",
            "Requirement already satisfied: scikit-image in /usr/local/lib/python3.7/dist-packages (from katna) (0.16.2)\n",
            "Requirement already satisfied: opencv-contrib-python>=3.4.7 in /usr/local/lib/python3.7/dist-packages (from katna) (4.1.2.30)\n",
            "Requirement already satisfied: idna<3,>=2.5 in /usr/local/lib/python3.7/dist-packages (from requests->katna) (2.10)\n",
            "Requirement already satisfied: urllib3!=1.25.0,!=1.25.1,<1.26,>=1.21.1 in /usr/local/lib/python3.7/dist-packages (from requests->katna) (1.24.3)\n",
            "Requirement already satisfied: certifi>=2017.4.17 in /usr/local/lib/python3.7/dist-packages (from requests->katna) (2020.12.5)\n",
            "Requirement already satisfied: chardet<4,>=3.0.2 in /usr/local/lib/python3.7/dist-packages (from requests->katna) (3.0.4)\n",
            "Requirement already satisfied: joblib>=0.11 in /usr/local/lib/python3.7/dist-packages (from scikit-learn->katna) (1.0.1)\n",
            "Requirement already satisfied: networkx>=2.0 in /usr/local/lib/python3.7/dist-packages (from scikit-image->katna) (2.5.1)\n",
            "Requirement already satisfied: matplotlib!=3.0.0,>=2.0.0 in /usr/local/lib/python3.7/dist-packages (from scikit-image->katna) (3.2.2)\n",
            "Requirement already satisfied: pillow>=4.3.0 in /usr/local/lib/python3.7/dist-packages (from scikit-image->katna) (7.1.2)\n",
            "Requirement already satisfied: PyWavelets>=0.4.0 in /usr/local/lib/python3.7/dist-packages (from scikit-image->katna) (1.1.1)\n",
            "Requirement already satisfied: imageio>=2.3.0 in /usr/local/lib/python3.7/dist-packages (from scikit-image->katna) (2.4.1)\n",
            "Requirement already satisfied: decorator<5,>=4.3 in /usr/local/lib/python3.7/dist-packages (from networkx>=2.0->scikit-image->katna) (4.4.2)\n",
            "Requirement already satisfied: pyparsing!=2.0.4,!=2.1.2,!=2.1.6,>=2.0.1 in /usr/local/lib/python3.7/dist-packages (from matplotlib!=3.0.0,>=2.0.0->scikit-image->katna) (2.4.7)\n",
            "Requirement already satisfied: python-dateutil>=2.1 in /usr/local/lib/python3.7/dist-packages (from matplotlib!=3.0.0,>=2.0.0->scikit-image->katna) (2.8.1)\n",
            "Requirement already satisfied: kiwisolver>=1.0.1 in /usr/local/lib/python3.7/dist-packages (from matplotlib!=3.0.0,>=2.0.0->scikit-image->katna) (1.3.1)\n",
            "Requirement already satisfied: cycler>=0.10 in /usr/local/lib/python3.7/dist-packages (from matplotlib!=3.0.0,>=2.0.0->scikit-image->katna) (0.10.0)\n",
            "Requirement already satisfied: six>=1.5 in /usr/local/lib/python3.7/dist-packages (from python-dateutil>=2.1->matplotlib!=3.0.0,>=2.0.0->scikit-image->katna) (1.15.0)\n"
          ],
          "name": "stdout"
        }
      ]
    },
    {
      "cell_type": "code",
      "metadata": {
        "colab": {
          "base_uri": "https://localhost:8080/"
        },
        "id": "IjPpTSzA7rz3",
        "outputId": "63a431d0-5b27-49e6-8e9a-d71ad4c4531e"
      },
      "source": [
        "from Katna.video import Video\n",
        "from Katna.writer import KeyFrameDiskWriter\n",
        "import os\n",
        "\n",
        "# For windows, the below if condition is must.\n",
        "if __name__ == \"__main__\":\n",
        "\n",
        "  # initialize video module\n",
        "  vd = Video()\n",
        "\n",
        "  # number of images to be returned\n",
        "  no_of_frames_to_returned = 15\n",
        "\n",
        "  # initialize diskwriter to save data at desired location\n",
        "  diskwriter = KeyFrameDiskWriter(location=\"Extracted_Frame\")\n",
        "\n",
        "  # Video file path\n",
        "  video_file_path = os.path.join(\".\", \"/content/Tide Super Bowl Commercial 2018 It's a Tide Ad.mp4\")\n",
        "\n",
        "  print(f\"Input video file path = {video_file_path}\")\n",
        "\n",
        "  # extract keyframes and process data with diskwriter\n",
        "  vd.extract_video_keyframes(\n",
        "       no_of_frames=no_of_frames_to_returned, file_path=video_file_path,\n",
        "       writer=diskwriter\n",
        "  )"
      ],
      "execution_count": null,
      "outputs": [
        {
          "output_type": "stream",
          "text": [
            "Input video file path = /content/Tide Super Bowl Commercial 2018 It's a Tide Ad.mp4\n",
            "Completed processing for :  /content/Tide Super Bowl Commercial 2018 It's a Tide Ad.mp4\n"
          ],
          "name": "stdout"
        }
      ]
    }
  ]
}